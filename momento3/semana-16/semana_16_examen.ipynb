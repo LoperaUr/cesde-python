{
  "nbformat": 4,
  "nbformat_minor": 0,
  "metadata": {
    "colab": {
      "provenance": []
    },
    "kernelspec": {
      "name": "python3",
      "display_name": "Python 3"
    },
    "language_info": {
      "name": "python"
    }
  },
  "cells": [
    {
      "cell_type": "markdown",
      "source": [
        "##Ejercicio 1: Análisis de Datos de Transacciones Financieras\n",
        "Descripción:\n",
        "\n",
        "Tienes un conjunto de datos de transacciones financieras que incluye información sobre el usuario, la cantidad, la fecha, el tipo de transacción (depósito o retiro) y el saldo final.\n",
        "\n",
        "Tareas:\n",
        "\n",
        "Cargar el conjunto de datos en un DataFrame de Pandas.\n",
        "\n",
        "Convertir la columna de fecha a un objeto datetime.\n",
        "\n",
        "Cree una nueva columna que calcule el saldo diario.\n",
        "\n",
        "Agrupar los datos por usuario y calcular el saldo promedio diario, la cantidad total de depósitos y retiros.\n",
        "\n",
        "Cree un gráfico de líneas que muestre la evolución del saldo promedio diario para los 5 usuarios con más transacciones.\n",
        "\n",
        "Cree un gráfico de barras que compare el total de depósitos y retiros para los 5 usuarios con más transacciones."
      ],
      "metadata": {
        "id": "mEF2V_1FtLT6"
      }
    },
    {
      "cell_type": "code",
      "source": [
        "import pandas as pd\n",
        "import seaborn as sns\n",
        "import datetime\n",
        "\n",
        "dataframe = pd.DataFrame({\n",
        "    \"usuario\": [\"Maria\", \"Pedro\", \"Juan\", \"José\", \"Lucas\", \"Marina\"],\n",
        "    \"cantidad\": [100, 50, 200, 50, 30, 100],\n",
        "    \"fecha\": [\"2023-10-05\", \"2023-10-06\", \"2023-10-07\", \"2023-10-08\", \"2023-10-09\", \"2023-10-10\"],\n",
        "    \"tipo\": [\"retiro\", \"retiro\", \"retiro\", \"retiro\", \"retiro\", \"retiro\"],\n",
        "    \"saldo_final\": [1000, 950, 1150, 1100, 1400, 1300]\n",
        "})\n",
        "\n",
        "dataframe[\"fecha\"] = pd.to_datetime(dataframe[\"fecha\"], format='%Y-%m-%d')\n",
        "\n",
        "dataframe[\"saldo_diario\"] = dataframe[\"saldo_final\"] - dataframe[\"cantidad\"]\n",
        "\n",
        "print(f\"Saldo promedio diario: {dataframe['saldo_diario'].mean()} $\")\n",
        "\n",
        "cantidad_depositos = (dataframe['tipo'] == 'deposito').sum()\n",
        "cantidad_retiros = (dataframe['tipo'] == 'retiro').sum()\n",
        "\n",
        "print(f\"Cantidad total de depósitos: {cantidad_depositos} y retiros: {cantidad_retiros}\")\n",
        "\n",
        "sns.lineplot(x=\"usuario\", y=\"cantidad\", data=dataframe)\n",
        "##sns.barplot(x=\"usuario\", y=\"cantidad\", data=dataframe)"
      ],
      "metadata": {
        "id": "CQSysbe_tV-n"
      },
      "execution_count": null,
      "outputs": []
    },
    {
      "cell_type": "markdown",
      "source": [
        "## Ejercicio 2: Análisis de Datos de Sensor IoT\n",
        "Descripción:\n",
        "\n",
        "Tienes un dataset de un sensor IoT que mide la temperatura, la humedad y la calidad del aire en diferentes ubicaciones cada hora.\n",
        "\n",
        "Tareas:\n",
        "\n",
        "Cargar el conjunto de datos en un DataFrame de Pandas.\n",
        "\n",
        "Convertir la columna de fecha y hora a un objeto datetime.\n",
        "\n",
        "Remuestrear los datos para obtener promedios diarios de temperatura, humedad y calidad del aire.\n",
        "\n",
        "Cree un gráfico de líneas para cada métrica (temperatura, humedad, calidad del aire) mostrando las tendencias diarias.\n",
        "\n",
        "Usar un gráfico de evaluación (heatmap) para mostrar las correlaciones entre las diferentes métricas.\n",
        "\n",
        "Cree un gráfico de dispersión con regresión que muestre la relación entre la temperatura y la humedad."
      ],
      "metadata": {
        "id": "ITHkQbKT3uV-"
      }
    },
    {
      "cell_type": "code",
      "source": [
        "import pandas as pd\n",
        "import seaborn as sns\n",
        "\n",
        "dataframe = pd.read_csv(\"ex2.csv\")\n",
        "dataframe[\"fecha\"] = pd.to_datetime(dataframe[\"fecha\"], format='%Y-%m-%d')\n",
        "\n",
        "sns.lineplot(y=\"temperatura\", x=\"fecha\", data=dataframe)\n",
        "sns.lineplot(y=\"humedad\", x=\"fecha\", data=dataframe)\n",
        "sns.lineplot(y=\"calidad_aire\", x=\"fecha\", data=dataframe)"
      ],
      "metadata": {
        "id": "nxYn-GB637o2"
      },
      "execution_count": null,
      "outputs": []
    },
    {
      "cell_type": "markdown",
      "source": [
        "## Ejercicio 3: Análisis de Sentimiento de Comentarios de Clientes\n",
        "\n",
        "### Descripción:\n",
        "\n",
        "Tienes un conjunto de datos de comentarios de clientes sobre productos, que incluye el comentario, la calificación del producto y la fecha del comentario.\n",
        "\n",
        "### Tareas:\n",
        "\n",
        "Cargar el conjunto de datos en un DataFrame de Pandas.\n",
        "\n",
        "Utilizar una biblioteca de procesamiento de lenguaje natural (NLP) para calcular el sentimiento de cada comentario (positivo, negativo, neutro).\n",
        "\n",
        "Agrupar los datos por mes y calcular la cantidad promedio de comentarios positivos, negativos y neutros.\n",
        "\n",
        "Cree un gráfico de líneas que muestre la tendencia mensual de cada tipo de sentimiento.\n",
        "\n",
        "Cree un gráfico de barras que muestre la distribución de sentimientos para productos con calificación alta (4-5 estrellas) y baja (1-2 estrellas).\n",
        "\n",
        "Crea una nube de palabras (nube de palabras) para los comentarios positivos y negativos."
      ],
      "metadata": {
        "id": "99SygKZ592ka"
      }
    },
    {
      "cell_type": "code",
      "source": [
        "import pandas as pd\n",
        "import seaborn as sns\n",
        "from textblob import TextBlob\n",
        "\n",
        "dataframe = pd.read_csv('ex3.csv')\n"
      ],
      "metadata": {
        "id": "OCJl-PFr981h"
      },
      "execution_count": null,
      "outputs": []
    },
    {
      "cell_type": "markdown",
      "source": [
        "## Ejercicio 4: Análisis de Datos de Redes Sociales\n",
        "\n",
        "### Descripción:\n",
        "\n",
        "Tienes un conjunto de datos de publicaciones en redes sociales que incluye el usuario, la fecha, el texto de la publicación, el número de me gusta y compartidos.\n",
        "\n",
        "### Tareas:\n",
        "\n",
        "Cargar el conjunto de datos en un DataFrame de Pandas.\n",
        "\n",
        "Convertir la columna de fecha a un objeto datetime.\n",
        "\n",
        "Cree una nueva columna que calcule la longitud del texto de la publicación.\n",
        "\n",
        "Agrupar los datos por usuario y calcular el promedio de me gusta, compartidos y longitud del texto de la publicación.\n",
        "\n",
        "Cree un gráfico de dispersión que muestre la relación entre la longitud del texto y el número de me gusta.\n",
        "\n",
        "Crea un gráfico de barras que muestre el promedio de me gusta y compartidos por usuario para los 10 usuarios más activos.\n",
        "\n",
        "Usar un gráfico de violín para mostrar la distribución del número de me gusta por la longitud del texto de la publicación."
      ],
      "metadata": {
        "id": "-yVKCy5R5ff7"
      }
    },
    {
      "cell_type": "code",
      "source": [
        "import pandas as pd\n",
        "import seaborn as sns\n",
        "\n",
        "df = pd.read_csv('ex4.csv')\n",
        "\n",
        "df['fecha'] = pd.to_datetime(df['fecha'])\n",
        "\n"
      ],
      "metadata": {
        "colab": {
          "base_uri": "https://localhost:8080/"
        },
        "id": "LTSXosiY5ioR",
        "outputId": "30f642f4-99ff-49d5-d8b5-339e4aa1ef0d"
      },
      "execution_count": null,
      "outputs": [
        {
          "output_type": "stream",
          "name": "stdout",
          "text": [
            "<class 'pandas.core.series.Series'>\n"
          ]
        }
      ]
    },
    {
      "cell_type": "markdown",
      "source": [
        "#Ejercicio 5: Análisis de Datos de Comercio Electrónico\n",
        "\n",
        "##Descripción:\n",
        "\n",
        "Tienes un conjunto de datos de un sitio web de comercio electrónico que incluye información sobre productos, usuarios, transacciones y reseñas.\n",
        "\n",
        "##Tareas:\n",
        "\n",
        "* Cargar los datasets de productos, usuarios, transacciones y reseñas en DataFrames de Pandas.\n",
        "\n",
        "* Unir los conjuntos de datos relevantes para crear una vista completa de las transacciones, incluyendo información del producto, usuario y reseña.\n",
        "\n",
        "* Calcular la tasa de conversión (proporción de visitas que resultan en compras) por categoría de producto.\n",
        "\n",
        "* Cree un gráfico de barras que muestre la tasa de conversión por categoría de producto.\n",
        "\n",
        "* Calcular la calificación promedio de los productos y la distribución de calificaciones.\n",
        "\n",
        "* Cree un gráfico de líneas que muestre la tendencia de las ventas mensuales.\n",
        "\n",
        "* Cree un gráfico de cajas para comparar la distribución de precios de productos entre las diferentes categorías."
      ],
      "metadata": {
        "id": "oDbJ7Jp6skSw"
      }
    },
    {
      "cell_type": "code",
      "source": [
        "import pandas as pd\n",
        "import numpy as np\n",
        "import matplotlib.pyplot as plt\n",
        "\n",
        "# Datos ficticios\n",
        "productos_data = {\n",
        "    'producto_id': [1, 2, 3, 4, 5],\n",
        "    'nombre': ['Producto A', 'Producto B', 'Producto C', 'Producto D', 'Producto E'],\n",
        "    'categoria': ['Electrónica', 'Electrónica', 'Ropa', 'Ropa', 'Hogar'],\n",
        "    'precio': [100, 150, 50, 75, 200]\n",
        "}\n",
        "\n",
        "usuarios_data = {\n",
        "    'usuario_id': [1, 2, 3, 4, 5],\n",
        "    'nombre': ['Usuario 1', 'Usuario 2', 'Usuario 3', 'Usuario 4', 'Usuario 5'],\n",
        "    'edad': [25, 34, 22, 45, 33]\n",
        "}\n",
        "\n",
        "transacciones_data = {\n",
        "    'transaccion_id': [1, 2, 3, 4, 5, 6, 7, 8, 9, 10],\n",
        "    'usuario_id': [1, 2, 1, 3, 4, 5, 2, 3, 1, 5],\n",
        "    'producto_id': [1, 2, 3, 1, 4, 5, 2, 3, 4, 5],\n",
        "    'tipo_transaccion': ['compra', 'visita', 'compra', 'visita', 'compra', 'visita', 'compra', 'visita', 'compra', 'compra'],\n",
        "    'fecha': pd.date_range(start='2023-01-01', periods=10, freq='M')\n",
        "}\n",
        "\n",
        "reseñas_data = {\n",
        "    'reseña_id': [1, 2, 3, 4, 5],\n",
        "    'transaccion_id': [1, 3, 5, 9, 10],\n",
        "    'calificacion': [5, 4, 3, 4, 5],\n",
        "    'comentario': ['Excelente', 'Bueno', 'Regular', 'Bueno', 'Excelente']\n",
        "}\n",
        "\n",
        "productos_df = pd.DataFrame(productos_data)\n",
        "usuarios_df = pd.DataFrame(usuarios_data)\n",
        "transacciones_df = pd.DataFrame(transacciones_data)\n",
        "reseñas_df = pd.DataFrame(reseñas_data)\n",
        "\n",
        "transacciones_completas_df = transacciones_df.merge(productos_df, on='producto_id', how='left') \\\n",
        "                                             .merge(usuarios_df, on='usuario_id', how='left') \\\n",
        "                                             .merge(reseñas_df, on='transaccion_id', how='left')\n",
        "\n",
        "visitas_df = transacciones_df[transacciones_df['tipo_transaccion'] == 'visita']\n",
        "compras_df = transacciones_df[transacciones_df['tipo_transaccion'] == 'compra']\n",
        "\n",
        "visitas_por_categoria = visitas_df.merge(productos_df, on='producto_id')['categoria'].value_counts()\n",
        "compras_por_categoria = compras_df.merge(productos_df, on='producto_id')['categoria'].value_counts()\n",
        "\n",
        "tasa_conversion_por_categoria = (compras_por_categoria / visitas_por_categoria).fillna(0)\n",
        "\n",
        "tasa_conversion_por_categoria.plot(kind='bar', figsize=(10, 6))\n",
        "plt.title('Tasa de Conversión por Categoría de Producto')\n",
        "plt.xlabel('Categoría')\n",
        "plt.ylabel('Tasa de Conversión')\n",
        "plt.show()\n",
        "\n",
        "distribucion_calificaciones = reseñas_df['calificacion'].value_counts().sort_index()\n",
        "\n",
        "compras_df = transacciones_df[transacciones_df['tipo_transaccion'] == 'compra']\n",
        "ventas_mensuales = compras_df.set_index('fecha').resample('M').size()\n",
        "\n",
        "ventas_mensuales.plot(kind='line', figsize=(10, 6))\n",
        "plt.title('Tendencia de Ventas Mensuales')\n",
        "plt.xlabel('Mes')\n",
        "plt.ylabel('Número de Ventas')\n",
        "plt.show()\n",
        "\n",
        "productos_df.boxplot(column='precio', by='categoria', figsize=(12, 8))\n",
        "plt.title('Distribución de Precios por Categoría de Producto')\n",
        "plt.suptitle('')\n",
        "plt.xlabel('Categoría')\n",
        "plt.ylabel('Precio')\n",
        "plt.xticks(rotation=90)\n",
        "plt.show()\n"
      ],
      "metadata": {
        "id": "cx7DSFGWsz12"
      },
      "execution_count": null,
      "outputs": []
    },
    {
      "cell_type": "code",
      "source": [],
      "metadata": {
        "id": "fVib_mSLwDjm"
      },
      "execution_count": null,
      "outputs": []
    }
  ]
}